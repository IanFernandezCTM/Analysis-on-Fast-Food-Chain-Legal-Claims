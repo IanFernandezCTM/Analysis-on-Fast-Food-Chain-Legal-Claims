{
 "cells": [
  {
   "cell_type": "markdown",
   "id": "a5b3bc0e-b993-4ee3-bd07-825a474bd0d9",
   "metadata": {
    "tags": []
   },
   "source": [
    "# Analysis on Fast Food Chain Legal Claims"
   ]
  },
  {
   "cell_type": "markdown",
   "id": "aa5a7514-faed-4388-8def-c1cf46e108de",
   "metadata": {},
   "source": [
    "## Company Background\n",
    "\n",
    "\n",
    "Vivendo is a fast food chain in Brazil with over 200 outlets. As with many fast food\n",
    "establishments, customers make claims against the company. For example, they blame\n",
    "Vivendo for suspected food poisoning.\n",
    "The legal team, who processes these claims, is currently split across four locations. The new\n",
    "head of the legal department wants to see if there are differences in the time it takes to close\n",
    "claims across the locations.\n",
    "\n",
    "## Customer Question\n",
    "- How does the number of claims differ across locations?\n",
    "- What is the distribution of time to close claims?\n",
    "- How does the average time to close claims differ by location?"
   ]
  },
  {
   "cell_type": "markdown",
   "id": "d1b1a012-1ccb-40e7-a1ad-77b60b256690",
   "metadata": {
    "tags": []
   },
   "source": [
    "## Data Validation \n",
    "Describe the validation tasks you performed and what you found. Have you made any changes to the data to enable further analysis? Remember to describe what you did for every column in the data.\n",
    "\n",
    "The following steps need to be accomplished in order for Data Discovery and Visualization to take place \n",
    "1. **Import necessary packges for analysis**\n",
    "2. **Create table stating dataset validation requirements**\n",
    "3. **Read the data into a Pandas DataFrame object**\n",
    "4. **Inspect dataframe and identify necessary changes** \n",
    "5. **Implement necessary changes to the DataFrame**"
   ]
  },
  {
   "cell_type": "markdown",
   "id": "531c87c8-93c7-40b2-a632-b7fae8b9bbea",
   "metadata": {},
   "source": [
    "### Import necessary packges for analysis"
   ]
  },
  {
   "cell_type": "code",
   "execution_count": 320,
   "id": "1725f8e4-430e-4da3-b166-79b22401133a",
   "metadata": {
    "executionTime": 78,
    "lastSuccessfullyExecutedCode": "import pandas as pd\nimport matplotlib.pyplot as plt"
   },
   "outputs": [],
   "source": [
    "import pandas as pd\n",
    "import matplotlib.pyplot as plt"
   ]
  },
  {
   "cell_type": "markdown",
   "id": "f3e49f12-c40c-41b5-acfa-cb0be1feed1b",
   "metadata": {},
   "source": [
    "#### Create table stating dataset validation requirements"
   ]
  },
  {
   "cell_type": "code",
   "execution_count": 321,
   "id": "02ac871b-79b3-48d4-afbc-d2f45dfd4eda",
   "metadata": {
    "executionTime": 93,
    "lastSuccessfullyExecutedCode": "d = {'Column Name': ['Claim ID', 'Time to Close', 'Claim Amount', 'Amount Paid','Location','Individuals on Claim','Linked Cases ','Cause'],\n\n'Criteria': ['Character, the unique identifier of the claim', 'Numeric, number of days it took for the claim to be closed.','Numeric, initial claim value in the currency of Brazil.','Numeric, total amount paid after the claim closed in the currency of Brazil. l. For example,“R$50,000.00” should be converted into 50000.','Character, location of the claim, one of “RECIFE”, “SAO LUIS”, “FORTALEZA”, or “NATAL”.','Numeric, number of individuals on this claim.','Binary, whether this claim is believed to be linked with other cases, either TRUE or FALSE.','Character, the cause of the food poisoning injuries, one of \"vegetable\", \"meat\", or \"unknown\". Replace any empty rows with \"unknown\"']}\n\ndescription = pd.DataFrame(data=d)\n\ndescription"
   },
   "outputs": [
    {
     "data": {
      "application/com.datacamp.data-table.v1+json": {
       "table": {
        "data": [
         {
          "Column Name": "Claim ID",
          "Criteria": "Character, the unique identifier of the claim",
          "index": 0
         },
         {
          "Column Name": "Time to Close",
          "Criteria": "Numeric, number of days it took for the claim to be closed.",
          "index": 1
         },
         {
          "Column Name": "Claim Amount",
          "Criteria": "Numeric, initial claim value in the currency of Brazil.",
          "index": 2
         },
         {
          "Column Name": "Amount Paid",
          "Criteria": "Numeric, total amount paid after the claim closed in the currency of Brazil. l. For example,“R$50,000.00” should be converted into 50000.",
          "index": 3
         },
         {
          "Column Name": "Location",
          "Criteria": "Character, location of the claim, one of “RECIFE”, “SAO LUIS”, “FORTALEZA”, or “NATAL”.",
          "index": 4
         },
         {
          "Column Name": "Individuals on Claim",
          "Criteria": "Numeric, number of individuals on this claim.",
          "index": 5
         },
         {
          "Column Name": "Linked Cases ",
          "Criteria": "Binary, whether this claim is believed to be linked with other cases, either TRUE or FALSE.",
          "index": 6
         },
         {
          "Column Name": "Cause",
          "Criteria": "Character, the cause of the food poisoning injuries, one of \"vegetable\", \"meat\", or \"unknown\". Replace any empty rows with \"unknown\"",
          "index": 7
         }
        ],
        "schema": {
         "fields": [
          {
           "name": "index",
           "type": "integer"
          },
          {
           "name": "Column Name",
           "type": "string"
          },
          {
           "name": "Criteria",
           "type": "string"
          }
         ],
         "pandas_version": "1.4.0",
         "primaryKey": [
          "index"
         ]
        }
       },
       "total_rows": 8,
       "truncation_type": null
      },
      "text/html": [
       "<div>\n",
       "<style scoped>\n",
       "    .dataframe tbody tr th:only-of-type {\n",
       "        vertical-align: middle;\n",
       "    }\n",
       "\n",
       "    .dataframe tbody tr th {\n",
       "        vertical-align: top;\n",
       "    }\n",
       "\n",
       "    .dataframe thead th {\n",
       "        text-align: right;\n",
       "    }\n",
       "</style>\n",
       "<table border=\"1\" class=\"dataframe\">\n",
       "  <thead>\n",
       "    <tr style=\"text-align: right;\">\n",
       "      <th></th>\n",
       "      <th>Column Name</th>\n",
       "      <th>Criteria</th>\n",
       "    </tr>\n",
       "  </thead>\n",
       "  <tbody>\n",
       "    <tr>\n",
       "      <th>0</th>\n",
       "      <td>Claim ID</td>\n",
       "      <td>Character, the unique identifier of the claim</td>\n",
       "    </tr>\n",
       "    <tr>\n",
       "      <th>1</th>\n",
       "      <td>Time to Close</td>\n",
       "      <td>Numeric, number of days it took for the claim to be closed.</td>\n",
       "    </tr>\n",
       "    <tr>\n",
       "      <th>2</th>\n",
       "      <td>Claim Amount</td>\n",
       "      <td>Numeric, initial claim value in the currency of Brazil.</td>\n",
       "    </tr>\n",
       "    <tr>\n",
       "      <th>3</th>\n",
       "      <td>Amount Paid</td>\n",
       "      <td>Numeric, total amount paid after the claim closed in the currency of Brazil. l. For example,“R$50,000.00” should be converted into 50000.</td>\n",
       "    </tr>\n",
       "    <tr>\n",
       "      <th>4</th>\n",
       "      <td>Location</td>\n",
       "      <td>Character, location of the claim, one of “RECIFE”, “SAO LUIS”, “FORTALEZA”, or “NATAL”.</td>\n",
       "    </tr>\n",
       "    <tr>\n",
       "      <th>5</th>\n",
       "      <td>Individuals on Claim</td>\n",
       "      <td>Numeric, number of individuals on this claim.</td>\n",
       "    </tr>\n",
       "    <tr>\n",
       "      <th>6</th>\n",
       "      <td>Linked Cases</td>\n",
       "      <td>Binary, whether this claim is believed to be linked with other cases, either TRUE or FALSE.</td>\n",
       "    </tr>\n",
       "    <tr>\n",
       "      <th>7</th>\n",
       "      <td>Cause</td>\n",
       "      <td>Character, the cause of the food poisoning injuries, one of \"vegetable\", \"meat\", or \"unknown\". Replace any empty rows with \"unknown\"</td>\n",
       "    </tr>\n",
       "  </tbody>\n",
       "</table>\n",
       "</div>"
      ],
      "text/plain": [
       "            Column Name  \\\n",
       "0              Claim ID   \n",
       "1         Time to Close   \n",
       "2          Claim Amount   \n",
       "3           Amount Paid   \n",
       "4              Location   \n",
       "5  Individuals on Claim   \n",
       "6         Linked Cases    \n",
       "7                 Cause   \n",
       "\n",
       "                                                                                                                                    Criteria  \n",
       "0                                                                                              Character, the unique identifier of the claim  \n",
       "1                                                                                Numeric, number of days it took for the claim to be closed.  \n",
       "2                                                                                    Numeric, initial claim value in the currency of Brazil.  \n",
       "3  Numeric, total amount paid after the claim closed in the currency of Brazil. l. For example,“R$50,000.00” should be converted into 50000.  \n",
       "4                                                    Character, location of the claim, one of “RECIFE”, “SAO LUIS”, “FORTALEZA”, or “NATAL”.  \n",
       "5                                                                                              Numeric, number of individuals on this claim.  \n",
       "6                                                Binary, whether this claim is believed to be linked with other cases, either TRUE or FALSE.  \n",
       "7       Character, the cause of the food poisoning injuries, one of \"vegetable\", \"meat\", or \"unknown\". Replace any empty rows with \"unknown\"  "
      ]
     },
     "execution_count": 321,
     "metadata": {},
     "output_type": "execute_result"
    }
   ],
   "source": [
    "d = {'Column Name': ['Claim ID', 'Time to Close', 'Claim Amount', 'Amount Paid','Location','Individuals on Claim','Linked Cases ','Cause'],\n",
    "\n",
    "'Criteria': ['Character, the unique identifier of the claim', 'Numeric, number of days it took for the claim to be closed.','Numeric, initial claim value in the currency of Brazil.','Numeric, total amount paid after the claim closed in the currency of Brazil. l. For example,“R$50,000.00” should be converted into 50000.','Character, location of the claim, one of “RECIFE”, “SAO LUIS”, “FORTALEZA”, or “NATAL”.','Numeric, number of individuals on this claim.','Binary, whether this claim is believed to be linked with other cases, either TRUE or FALSE.','Character, the cause of the food poisoning injuries, one of \"vegetable\", \"meat\", or \"unknown\". Replace any empty rows with \"unknown\"']}\n",
    "\n",
    "description = pd.DataFrame(data=d)\n",
    "\n",
    "description"
   ]
  },
  {
   "cell_type": "markdown",
   "id": "3f9fd09a-3054-43f8-ba66-b32fe9f20021",
   "metadata": {},
   "source": [
    "**Read the data into a Pandas DataFrame**"
   ]
  },
  {
   "cell_type": "code",
   "execution_count": 322,
   "id": "393d1de2-52f9-42eb-ae21-ba9ccc2b5ecc",
   "metadata": {
    "executionTime": 37,
    "lastSuccessfullyExecutedCode": "df = pd.read_csv(r'claims.csv')\nprint(df)"
   },
   "outputs": [
    {
     "name": "stdout",
     "output_type": "stream",
     "text": [
      "                     Claim ID  Time to Close  Claim Amount  Amount Paid  \\\n",
      "0   0000000-00.2010.0.00.0094           2082   R$50,000.00     34297.47   \n",
      "1   0000000-00.2011.0.00.0086           3591  R$180,000.00     56383.54   \n",
      "2   0000000-00.2012.0.00.0092           2997   R$70,000.00     12366.76   \n",
      "3   0000000-00.2013.0.00.0096           1143   R$95,104.00     29217.16   \n",
      "4   0000000-00.2014.0.00.0097            117   R$29,000.00     12610.50   \n",
      "..                        ...            ...           ...          ...   \n",
      "93  0000000-00.2020.0.00.0023            208   R$80,396.00     40668.14   \n",
      "94  0000000-00.2020.0.00.0057             86   R$50,000.00      8363.96   \n",
      "95  0000000-00.2020.0.00.0010            201   R$60,000.00     42318.80   \n",
      "96  0000000-00.2020.0.00.0059            200  R$474,542.00    329473.49   \n",
      "97  0000000-00.2020.0.00.0073            195   R$40,000.00     15406.95   \n",
      "\n",
      "     Location  Individuals on Claim  Linked Cases       Cause  \n",
      "0      RECIFE                     2         False         NaN  \n",
      "1    SAO LUIS                     7         False         NaN  \n",
      "2    SAO LUIS                     3         False  vegetables  \n",
      "3   FORTALEZA                     4         False         NaN  \n",
      "4   FORTALEZA                     1         False        meat  \n",
      "..        ...                   ...           ...         ...  \n",
      "93  FORTALEZA                     3         False        meat  \n",
      "94  FORTALEZA                     2         False         NaN  \n",
      "95      NATAL                     2         False         NaN  \n",
      "96      NATAL                    20          True         NaN  \n",
      "97      NATAL                     1         False         NaN  \n",
      "\n",
      "[98 rows x 8 columns]\n"
     ]
    }
   ],
   "source": [
    "df = pd.read_csv(r'claims.csv')\n",
    "print(df)"
   ]
  },
  {
   "cell_type": "markdown",
   "id": "2aa45155-2c45-451c-a779-17b731d7a343",
   "metadata": {},
   "source": [
    "**Inspect dataframe and identify necessary changes** "
   ]
  },
  {
   "cell_type": "code",
   "execution_count": 323,
   "id": "570f7f13-92f6-4d42-a50e-ff23b2932b7e",
   "metadata": {
    "executionTime": 53,
    "lastSuccessfullyExecutedCode": "df.head()"
   },
   "outputs": [
    {
     "data": {
      "application/com.datacamp.data-table.v1+json": {
       "table": {
        "data": [
         {
          "Amount Paid": 34297.47,
          "Cause": null,
          "Claim Amount": "R$50,000.00",
          "Claim ID": "0000000-00.2010.0.00.0094",
          "Individuals on Claim": 2,
          "Linked Cases": false,
          "Location": "RECIFE",
          "Time to Close": 2082,
          "index": 0
         },
         {
          "Amount Paid": 56383.54,
          "Cause": null,
          "Claim Amount": "R$180,000.00",
          "Claim ID": "0000000-00.2011.0.00.0086",
          "Individuals on Claim": 7,
          "Linked Cases": false,
          "Location": "SAO LUIS",
          "Time to Close": 3591,
          "index": 1
         },
         {
          "Amount Paid": 12366.76,
          "Cause": "vegetables",
          "Claim Amount": "R$70,000.00",
          "Claim ID": "0000000-00.2012.0.00.0092",
          "Individuals on Claim": 3,
          "Linked Cases": false,
          "Location": "SAO LUIS",
          "Time to Close": 2997,
          "index": 2
         },
         {
          "Amount Paid": 29217.16,
          "Cause": null,
          "Claim Amount": "R$95,104.00",
          "Claim ID": "0000000-00.2013.0.00.0096",
          "Individuals on Claim": 4,
          "Linked Cases": false,
          "Location": "FORTALEZA",
          "Time to Close": 1143,
          "index": 3
         },
         {
          "Amount Paid": 12610.5,
          "Cause": "meat",
          "Claim Amount": "R$29,000.00",
          "Claim ID": "0000000-00.2014.0.00.0097",
          "Individuals on Claim": 1,
          "Linked Cases": false,
          "Location": "FORTALEZA",
          "Time to Close": 117,
          "index": 4
         }
        ],
        "schema": {
         "fields": [
          {
           "name": "index",
           "type": "integer"
          },
          {
           "name": "Claim ID",
           "type": "string"
          },
          {
           "name": "Time to Close",
           "type": "integer"
          },
          {
           "name": "Claim Amount",
           "type": "string"
          },
          {
           "name": "Amount Paid",
           "type": "number"
          },
          {
           "name": "Location",
           "type": "string"
          },
          {
           "name": "Individuals on Claim",
           "type": "integer"
          },
          {
           "name": "Linked Cases",
           "type": "boolean"
          },
          {
           "name": "Cause",
           "type": "string"
          }
         ],
         "pandas_version": "1.4.0",
         "primaryKey": [
          "index"
         ]
        }
       },
       "total_rows": 5,
       "truncation_type": null
      },
      "text/html": [
       "<div>\n",
       "<style scoped>\n",
       "    .dataframe tbody tr th:only-of-type {\n",
       "        vertical-align: middle;\n",
       "    }\n",
       "\n",
       "    .dataframe tbody tr th {\n",
       "        vertical-align: top;\n",
       "    }\n",
       "\n",
       "    .dataframe thead th {\n",
       "        text-align: right;\n",
       "    }\n",
       "</style>\n",
       "<table border=\"1\" class=\"dataframe\">\n",
       "  <thead>\n",
       "    <tr style=\"text-align: right;\">\n",
       "      <th></th>\n",
       "      <th>Claim ID</th>\n",
       "      <th>Time to Close</th>\n",
       "      <th>Claim Amount</th>\n",
       "      <th>Amount Paid</th>\n",
       "      <th>Location</th>\n",
       "      <th>Individuals on Claim</th>\n",
       "      <th>Linked Cases</th>\n",
       "      <th>Cause</th>\n",
       "    </tr>\n",
       "  </thead>\n",
       "  <tbody>\n",
       "    <tr>\n",
       "      <th>0</th>\n",
       "      <td>0000000-00.2010.0.00.0094</td>\n",
       "      <td>2082</td>\n",
       "      <td>R$50,000.00</td>\n",
       "      <td>34297.47</td>\n",
       "      <td>RECIFE</td>\n",
       "      <td>2</td>\n",
       "      <td>False</td>\n",
       "      <td>NaN</td>\n",
       "    </tr>\n",
       "    <tr>\n",
       "      <th>1</th>\n",
       "      <td>0000000-00.2011.0.00.0086</td>\n",
       "      <td>3591</td>\n",
       "      <td>R$180,000.00</td>\n",
       "      <td>56383.54</td>\n",
       "      <td>SAO LUIS</td>\n",
       "      <td>7</td>\n",
       "      <td>False</td>\n",
       "      <td>NaN</td>\n",
       "    </tr>\n",
       "    <tr>\n",
       "      <th>2</th>\n",
       "      <td>0000000-00.2012.0.00.0092</td>\n",
       "      <td>2997</td>\n",
       "      <td>R$70,000.00</td>\n",
       "      <td>12366.76</td>\n",
       "      <td>SAO LUIS</td>\n",
       "      <td>3</td>\n",
       "      <td>False</td>\n",
       "      <td>vegetables</td>\n",
       "    </tr>\n",
       "    <tr>\n",
       "      <th>3</th>\n",
       "      <td>0000000-00.2013.0.00.0096</td>\n",
       "      <td>1143</td>\n",
       "      <td>R$95,104.00</td>\n",
       "      <td>29217.16</td>\n",
       "      <td>FORTALEZA</td>\n",
       "      <td>4</td>\n",
       "      <td>False</td>\n",
       "      <td>NaN</td>\n",
       "    </tr>\n",
       "    <tr>\n",
       "      <th>4</th>\n",
       "      <td>0000000-00.2014.0.00.0097</td>\n",
       "      <td>117</td>\n",
       "      <td>R$29,000.00</td>\n",
       "      <td>12610.50</td>\n",
       "      <td>FORTALEZA</td>\n",
       "      <td>1</td>\n",
       "      <td>False</td>\n",
       "      <td>meat</td>\n",
       "    </tr>\n",
       "  </tbody>\n",
       "</table>\n",
       "</div>"
      ],
      "text/plain": [
       "                    Claim ID  Time to Close  Claim Amount  Amount Paid  \\\n",
       "0  0000000-00.2010.0.00.0094           2082   R$50,000.00     34297.47   \n",
       "1  0000000-00.2011.0.00.0086           3591  R$180,000.00     56383.54   \n",
       "2  0000000-00.2012.0.00.0092           2997   R$70,000.00     12366.76   \n",
       "3  0000000-00.2013.0.00.0096           1143   R$95,104.00     29217.16   \n",
       "4  0000000-00.2014.0.00.0097            117   R$29,000.00     12610.50   \n",
       "\n",
       "    Location  Individuals on Claim  Linked Cases       Cause  \n",
       "0     RECIFE                     2         False         NaN  \n",
       "1   SAO LUIS                     7         False         NaN  \n",
       "2   SAO LUIS                     3         False  vegetables  \n",
       "3  FORTALEZA                     4         False         NaN  \n",
       "4  FORTALEZA                     1         False        meat  "
      ]
     },
     "execution_count": 323,
     "metadata": {},
     "output_type": "execute_result"
    }
   ],
   "source": [
    "df.head()"
   ]
  },
  {
   "cell_type": "code",
   "execution_count": 324,
   "id": "ce1ca05f-d541-4195-b2e0-07a6f0b2e7c2",
   "metadata": {
    "executionTime": 55,
    "lastSuccessfullyExecutedCode": "df.info()"
   },
   "outputs": [
    {
     "name": "stdout",
     "output_type": "stream",
     "text": [
      "<class 'pandas.core.frame.DataFrame'>\n",
      "RangeIndex: 98 entries, 0 to 97\n",
      "Data columns (total 8 columns):\n",
      " #   Column                Non-Null Count  Dtype  \n",
      "---  ------                --------------  -----  \n",
      " 0   Claim ID              98 non-null     object \n",
      " 1   Time to Close         98 non-null     int64  \n",
      " 2   Claim Amount          98 non-null     object \n",
      " 3   Amount Paid           98 non-null     float64\n",
      " 4   Location              98 non-null     object \n",
      " 5   Individuals on Claim  98 non-null     int64  \n",
      " 6   Linked Cases          98 non-null     bool   \n",
      " 7   Cause                 20 non-null     object \n",
      "dtypes: bool(1), float64(1), int64(2), object(4)\n",
      "memory usage: 5.6+ KB\n"
     ]
    }
   ],
   "source": [
    "df.info()"
   ]
  },
  {
   "cell_type": "markdown",
   "id": "1c6c8ba0-67a4-4914-a6e6-f092fc5dd03b",
   "metadata": {},
   "source": [
    "**Identified necessary changes**\n",
    "1. Convert 'Claim Amount' colum into float data type.\n",
    "2. Replace null values in 'Cause' column with 'unknown'"
   ]
  },
  {
   "cell_type": "markdown",
   "id": "0fcb8468-9bc7-470a-ace9-c71fbc059c89",
   "metadata": {},
   "source": [
    "**Implement necessary changes to the DataFrame**"
   ]
  },
  {
   "cell_type": "code",
   "execution_count": 325,
   "id": "924682b7-ceb3-4c33-8389-6c00ea4abb50",
   "metadata": {
    "executionTime": 93,
    "lastSuccessfullyExecutedCode": "#Convert 'Claim Amount' colum into float data type\ndf['Claim Amount'] = df['Claim Amount'].str[2:].replace(',','', regex=True).astype(float)\n\n#Replace 'null' in 'Cause' column with 'unknown'\ndf['Cause'] = df['Cause'].fillna('unknown')\n\n#Inspect Validated Data\ndf.head()"
   },
   "outputs": [
    {
     "data": {
      "application/com.datacamp.data-table.v1+json": {
       "table": {
        "data": [
         {
          "Amount Paid": 34297.47,
          "Cause": "unknown",
          "Claim Amount": 50000,
          "Claim ID": "0000000-00.2010.0.00.0094",
          "Individuals on Claim": 2,
          "Linked Cases": false,
          "Location": "RECIFE",
          "Time to Close": 2082,
          "index": 0
         },
         {
          "Amount Paid": 56383.54,
          "Cause": "unknown",
          "Claim Amount": 180000,
          "Claim ID": "0000000-00.2011.0.00.0086",
          "Individuals on Claim": 7,
          "Linked Cases": false,
          "Location": "SAO LUIS",
          "Time to Close": 3591,
          "index": 1
         },
         {
          "Amount Paid": 12366.76,
          "Cause": "vegetables",
          "Claim Amount": 70000,
          "Claim ID": "0000000-00.2012.0.00.0092",
          "Individuals on Claim": 3,
          "Linked Cases": false,
          "Location": "SAO LUIS",
          "Time to Close": 2997,
          "index": 2
         },
         {
          "Amount Paid": 29217.16,
          "Cause": "unknown",
          "Claim Amount": 95104,
          "Claim ID": "0000000-00.2013.0.00.0096",
          "Individuals on Claim": 4,
          "Linked Cases": false,
          "Location": "FORTALEZA",
          "Time to Close": 1143,
          "index": 3
         },
         {
          "Amount Paid": 12610.5,
          "Cause": "meat",
          "Claim Amount": 29000,
          "Claim ID": "0000000-00.2014.0.00.0097",
          "Individuals on Claim": 1,
          "Linked Cases": false,
          "Location": "FORTALEZA",
          "Time to Close": 117,
          "index": 4
         }
        ],
        "schema": {
         "fields": [
          {
           "name": "index",
           "type": "integer"
          },
          {
           "name": "Claim ID",
           "type": "string"
          },
          {
           "name": "Time to Close",
           "type": "integer"
          },
          {
           "name": "Claim Amount",
           "type": "number"
          },
          {
           "name": "Amount Paid",
           "type": "number"
          },
          {
           "name": "Location",
           "type": "string"
          },
          {
           "name": "Individuals on Claim",
           "type": "integer"
          },
          {
           "name": "Linked Cases",
           "type": "boolean"
          },
          {
           "name": "Cause",
           "type": "string"
          }
         ],
         "pandas_version": "1.4.0",
         "primaryKey": [
          "index"
         ]
        }
       },
       "total_rows": 5,
       "truncation_type": null
      },
      "text/html": [
       "<div>\n",
       "<style scoped>\n",
       "    .dataframe tbody tr th:only-of-type {\n",
       "        vertical-align: middle;\n",
       "    }\n",
       "\n",
       "    .dataframe tbody tr th {\n",
       "        vertical-align: top;\n",
       "    }\n",
       "\n",
       "    .dataframe thead th {\n",
       "        text-align: right;\n",
       "    }\n",
       "</style>\n",
       "<table border=\"1\" class=\"dataframe\">\n",
       "  <thead>\n",
       "    <tr style=\"text-align: right;\">\n",
       "      <th></th>\n",
       "      <th>Claim ID</th>\n",
       "      <th>Time to Close</th>\n",
       "      <th>Claim Amount</th>\n",
       "      <th>Amount Paid</th>\n",
       "      <th>Location</th>\n",
       "      <th>Individuals on Claim</th>\n",
       "      <th>Linked Cases</th>\n",
       "      <th>Cause</th>\n",
       "    </tr>\n",
       "  </thead>\n",
       "  <tbody>\n",
       "    <tr>\n",
       "      <th>0</th>\n",
       "      <td>0000000-00.2010.0.00.0094</td>\n",
       "      <td>2082</td>\n",
       "      <td>50000.0</td>\n",
       "      <td>34297.47</td>\n",
       "      <td>RECIFE</td>\n",
       "      <td>2</td>\n",
       "      <td>False</td>\n",
       "      <td>unknown</td>\n",
       "    </tr>\n",
       "    <tr>\n",
       "      <th>1</th>\n",
       "      <td>0000000-00.2011.0.00.0086</td>\n",
       "      <td>3591</td>\n",
       "      <td>180000.0</td>\n",
       "      <td>56383.54</td>\n",
       "      <td>SAO LUIS</td>\n",
       "      <td>7</td>\n",
       "      <td>False</td>\n",
       "      <td>unknown</td>\n",
       "    </tr>\n",
       "    <tr>\n",
       "      <th>2</th>\n",
       "      <td>0000000-00.2012.0.00.0092</td>\n",
       "      <td>2997</td>\n",
       "      <td>70000.0</td>\n",
       "      <td>12366.76</td>\n",
       "      <td>SAO LUIS</td>\n",
       "      <td>3</td>\n",
       "      <td>False</td>\n",
       "      <td>vegetables</td>\n",
       "    </tr>\n",
       "    <tr>\n",
       "      <th>3</th>\n",
       "      <td>0000000-00.2013.0.00.0096</td>\n",
       "      <td>1143</td>\n",
       "      <td>95104.0</td>\n",
       "      <td>29217.16</td>\n",
       "      <td>FORTALEZA</td>\n",
       "      <td>4</td>\n",
       "      <td>False</td>\n",
       "      <td>unknown</td>\n",
       "    </tr>\n",
       "    <tr>\n",
       "      <th>4</th>\n",
       "      <td>0000000-00.2014.0.00.0097</td>\n",
       "      <td>117</td>\n",
       "      <td>29000.0</td>\n",
       "      <td>12610.50</td>\n",
       "      <td>FORTALEZA</td>\n",
       "      <td>1</td>\n",
       "      <td>False</td>\n",
       "      <td>meat</td>\n",
       "    </tr>\n",
       "  </tbody>\n",
       "</table>\n",
       "</div>"
      ],
      "text/plain": [
       "                    Claim ID  Time to Close  Claim Amount  Amount Paid  \\\n",
       "0  0000000-00.2010.0.00.0094           2082       50000.0     34297.47   \n",
       "1  0000000-00.2011.0.00.0086           3591      180000.0     56383.54   \n",
       "2  0000000-00.2012.0.00.0092           2997       70000.0     12366.76   \n",
       "3  0000000-00.2013.0.00.0096           1143       95104.0     29217.16   \n",
       "4  0000000-00.2014.0.00.0097            117       29000.0     12610.50   \n",
       "\n",
       "    Location  Individuals on Claim  Linked Cases       Cause  \n",
       "0     RECIFE                     2         False     unknown  \n",
       "1   SAO LUIS                     7         False     unknown  \n",
       "2   SAO LUIS                     3         False  vegetables  \n",
       "3  FORTALEZA                     4         False     unknown  \n",
       "4  FORTALEZA                     1         False        meat  "
      ]
     },
     "execution_count": 325,
     "metadata": {},
     "output_type": "execute_result"
    }
   ],
   "source": [
    "#Convert 'Claim Amount' colum into float data type\n",
    "df['Claim Amount'] = df['Claim Amount'].str[2:].replace(',','', regex=True).astype(float)\n",
    "\n",
    "#Replace 'null' in 'Cause' column with 'unknown'\n",
    "df['Cause'] = df['Cause'].fillna('unknown')\n",
    "\n",
    "#Inspect Validated Data\n",
    "df.head()"
   ]
  },
  {
   "cell_type": "markdown",
   "id": "714a7083-7a43-4b0b-8ed4-2675efc87691",
   "metadata": {
    "tags": []
   },
   "source": [
    "## Data Discovery and Visualization\n",
    "Describe what you found in the analysis and how the visualizations answer the customer questions in the project brief. In your description you should:\n",
    "- Include at least two different data visualizations to demonstrate the characteristics of single variables\n",
    "- Include at least one data visualization to demonstrate the relationship between two or more variables\n",
    "- Describe how your analysis has answered the business questions in the project brief\n",
    "\n",
    "## Strategy in answering Customer Questions\n",
    "- **How does the number of claims differ across locations?** A pie chart will be useful in answering this question since there are only 4 locations. A pie chart will allow us to have a good visual representation of the number of claims per location when compared to the other locations. _This would also be considered as a data visualization that demonstrates the characteristics of single variables._\n",
    "- **What is the distribution of time to close claims?**  A histogram will be useful in visualizing the distribution. It would allow us to see least and most number of days it takes to close claims. It would also reveal the most common number of days to close a claim. _This would also be considered as a data visualization that demonstrates the characteristics of single variables._\n",
    "- **How does the average time to close claims differ by location?** A bar graph would be useful in determining the average time to close claims in the different locations. _This would also be considered as a data visualization that demonstrates the relationship of two variables._"
   ]
  },
  {
   "cell_type": "markdown",
   "id": "12414b84-2b78-44ed-87c7-ed2c7dce5421",
   "metadata": {},
   "source": [
    "## **How does the number of claims differ across locations?**"
   ]
  },
  {
   "cell_type": "code",
   "execution_count": 326,
   "id": "75825307-b018-4b98-b195-992f27b86e5c",
   "metadata": {
    "executionTime": 0,
    "lastSuccessfullyExecutedCode": "x = df.groupby(['Location'])['Location'].count()\nprint(x)"
   },
   "outputs": [
    {
     "name": "stdout",
     "output_type": "stream",
     "text": [
      "Location\n",
      "FORTALEZA    22\n",
      "NATAL        21\n",
      "RECIFE       25\n",
      "SAO LUIS     30\n",
      "Name: Location, dtype: int64\n"
     ]
    }
   ],
   "source": [
    "x = df.groupby(['Location'])['Location'].count()\n",
    "print(x)"
   ]
  },
  {
   "cell_type": "code",
   "execution_count": 327,
   "id": "31a8f784-8272-4326-a37d-0be7099a5112",
   "metadata": {
    "executionTime": 50,
    "lastSuccessfullyExecutedCode": "x.plot(kind='pie', autopct='%1.0f%%',title='Percentage of claims across locations');"
   },
   "outputs": [
    {
     "data": {
      "image/png": "[encoded data removed]",
      "text/plain": [
       "<Figure size 640x480 with 1 Axes>"
      ]
     },
     "metadata": {},
     "output_type": "display_data"
    }
   ],
   "source": [
    "x.plot(kind='pie', autopct='%1.0f%%',title='Percentage of claims across locations');"
   ]
  },
  {
   "cell_type": "markdown",
   "id": "353296a3-aa0b-4b42-bd07-bc245ea1c090",
   "metadata": {},
   "source": [
    "## What is the distribution of time to close claims?"
   ]
  },
  {
   "cell_type": "code",
   "execution_count": 328,
   "id": "ccd798ca-fbfb-4cc8-a567-9c3e281f7454",
   "metadata": {
    "executionTime": 0,
    "lastSuccessfullyExecutedCode": "print('Mean: {}'.format(df['Time to Close'].mean()))\nprint('Median: {}'.format(df['Time to Close'].median()));"
   },
   "outputs": [
    {
     "name": "stdout",
     "output_type": "stream",
     "text": [
      "Mean: 832.3469387755102\n",
      "Median: 638.5\n"
     ]
    }
   ],
   "source": [
    "print('Mean: {}'.format(df['Time to Close'].mean()))\n",
    "print('Median: {}'.format(df['Time to Close'].median()));"
   ]
  },
  {
   "cell_type": "code",
   "execution_count": 329,
   "id": "20aebab6-008d-41d2-a785-c8a6d85133fc",
   "metadata": {
    "executionTime": 106,
    "lastSuccessfullyExecutedCode": "plt.hist(df['Time to Close'],bins=20)\nplt.title(\"Distribution of time to close claims\")\nplt.xlabel('No. of Days')\nplt.ylabel('No. of Claims');"
   },
   "outputs": [
    {
     "data": {
      "image/png": "[encoded data removed]",
      "text/plain": [
       "<Figure size 640x480 with 1 Axes>"
      ]
     },
     "metadata": {},
     "output_type": "display_data"
    }
   ],
   "source": [
    "plt.hist(df['Time to Close'],bins=20)\n",
    "plt.title(\"Distribution of time to close claims\")\n",
    "plt.xlabel('No. of Days')\n",
    "plt.ylabel('No. of Claims');"
   ]
  },
  {
   "cell_type": "markdown",
   "id": "29693f03-0fa8-413b-97d5-6e9b037c71a9",
   "metadata": {},
   "source": [
    "## How does the average time to close claims differ by location?"
   ]
  },
  {
   "cell_type": "code",
   "execution_count": 330,
   "id": "8db74d25-81a8-40e7-a31c-297f4aa426d9",
   "metadata": {
    "executionTime": 110,
    "lastSuccessfullyExecutedCode": "z = df.groupby(['Location'])['Time to Close'].mean().reset_index()\n\nplt.title(\"Average time to close claims by location\")\nplt.xlabel('Location')\nplt.ylabel('No. of Days')\nplt.bar(z.Location,z['Time to Close'],color=['red', 'green', 'blue', 'orange']);\n"
   },
   "outputs": [
    {
     "data": {
      "image/png": "[encoded data removed]",
      "text/plain": [
       "<Figure size 640x480 with 1 Axes>"
      ]
     },
     "metadata": {},
     "output_type": "display_data"
    }
   ],
   "source": [
    "z = df.groupby(['Location'])['Time to Close'].mean().reset_index()\n",
    "\n",
    "plt.title(\"Average time to close claims by location\")\n",
    "plt.xlabel('Location')\n",
    "plt.ylabel('No. of Days')\n",
    "plt.bar(z.Location,z['Time to Close'],color=['red', 'green', 'blue', 'orange']);\n"
   ]
  },
  {
   "cell_type": "markdown",
   "id": "c6fffe76-4b0e-4f37-b122-7e5717d8387e",
   "metadata": {},
   "source": [
    "## **Description on how the analysis has answered the business questions in the project brief**\n",
    "\n",
    "- **How does the number of claims differ across locations?** The pie chart revcealed that 21% of claims are from Natal. 22% are from Fortaleza, 31% are from Sao Luis, and 26% are from Recife. \n",
    "\n",
    "- **What is the distribution of time to close claims?** The histogram visualizies the distribution of time to close claims. The difference between median and mean signifies that there are outliers present. The histogram shows that outliers can be seen in 3000 and 3500 days.  \n",
    "- **How does the average time to close claims differ by location?** The bar graph shows that Sao Luis has the longest average time to close claims while Natal has the shortest. A notable difference in average time to close claims is observed per location. "
   ]
  }
 ],
 "metadata": {
  "colab": {
   "name": "Welcome to DataCamp Workspaces.ipynb",
   "provenance": []
  },
  "kernelspec": {
   "display_name": "Python 3 (ipykernel)",
   "language": "python",
   "name": "python3"
  },
  "language_info": {
   "codemirror_mode": {
    "name": "ipython",
    "version": 3
   },
   "file_extension": ".py",
   "mimetype": "text/x-python",
   "name": "python",
   "nbconvert_exporter": "python",
   "pygments_lexer": "ipython3",
   "version": "3.9.12"
  }
 },
 "nbformat": 4,
 "nbformat_minor": 5
}
